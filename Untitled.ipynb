{
 "cells": [
  {
   "cell_type": "code",
   "execution_count": 2,
   "metadata": {},
   "outputs": [],
   "source": [
    "import numpy as np"
   ]
  },
  {
   "cell_type": "code",
   "execution_count": 4,
   "metadata": {},
   "outputs": [],
   "source": [
    "with open(\"small_sep.txt\", \"w\") as f:\n",
    "    for _ in range(100):\n",
    "        l = np.random.normal(1, 1, 3).tolist()\n",
    "        f.write( ' '.join(map(str, l)) + \"\\n\")\n",
    "        r = np.random.normal(5, 1, 3).tolist()\n",
    "        f.write( ' '.join(map(str, r))  + \"\\n\")"
   ]
  },
  {
   "cell_type": "code",
   "execution_count": 11,
   "metadata": {},
   "outputs": [
    {
     "name": "stdout",
     "output_type": "stream",
     "text": [
      "{\"identifier\":\"VL-66\",\"r\":[0.849,0.683,0.934],\"c\":[0.476,0.558,0.948],\"n\":45}\n",
      "\n",
      "['\"c\":[0.476', '0.558', '0.948]']\n",
      "{\"identifier\":\"VL-164\",\"r\":[0.699,0.56,1.059],\"c\":[0.791,2.212,1.007],\"n\":28}\n",
      "\n",
      "['\"c\":[0.791', '2.212', '1.007]']\n",
      "{\"identifier\":\"VL-97\",\"r\":[0.964,0.892,1.092],\"c\":[4.959,5.124,5.022],\"n\":100}\n",
      "\n",
      "['\"c\":[4.959', '5.124', '5.022]']\n",
      "{\"identifier\":\"VL-14\",\"r\":[0.647,0.997,0.827],\"c\":[2.36,1.023,0.604],\"n\":27}\n",
      "\n",
      "['\"c\":[2.36', '1.023', '0.604]']\n"
     ]
    }
   ],
   "source": [
    "with open(\"./hadoop/results.txt\") as f:\n",
    "    clusters = {}\n",
    "    for line in f:\n",
    "        if line[0] is '{':\n",
    "            print(line)\n",
    "            center = line.split(\",\")\n",
    "            print(values[4:7])"
   ]
  },
  {
   "cell_type": "code",
   "execution_count": null,
   "metadata": {},
   "outputs": [],
   "source": []
  }
 ],
 "metadata": {
  "kernelspec": {
   "display_name": "Python 3",
   "language": "python",
   "name": "python3"
  },
  "language_info": {
   "codemirror_mode": {
    "name": "ipython",
    "version": 3
   },
   "file_extension": ".py",
   "mimetype": "text/x-python",
   "name": "python",
   "nbconvert_exporter": "python",
   "pygments_lexer": "ipython3",
   "version": "3.7.3"
  }
 },
 "nbformat": 4,
 "nbformat_minor": 2
}
